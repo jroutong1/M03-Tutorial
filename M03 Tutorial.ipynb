{
 "cells": [
  {
   "cell_type": "code",
   "execution_count": 1,
   "id": "86b75e54",
   "metadata": {},
   "outputs": [],
   "source": [
    "def sort012(arr,n):\n",
    "        step = 0\n",
    "        z = 0\n",
    "        while step != n:\n",
    "            if(arr[step] == 0) and (step != 0):\n",
    "                move = arr.pop(step)\n",
    "                arr.insert(0, move)\n",
    "                z += 1\n",
    "            elif(arr[step] == 0) and (step == 0):\n",
    "                z+= 1\n",
    "            step += 1\n",
    "        step = z-1\n",
    "        while step != n:\n",
    "            if(arr[step] == 1):\n",
    "                move = arr.pop(step)\n",
    "                arr.insert(z, move)\n",
    "            step += 1"
   ]
  },
  {
   "cell_type": "code",
   "execution_count": 2,
   "id": "18daf939",
   "metadata": {},
   "outputs": [
    {
     "name": "stdout",
     "output_type": "stream",
     "text": [
      "[0, 1, 1, 1, 1, 1, 2, 2, 2, 2, 2, 2, 2]\n"
     ]
    }
   ],
   "source": [
    "arr = [2, 0, 2, 2, 2, 1, 1, 1, 1, 1, 2, 2, 2]\n",
    "n = 13\n",
    "\n",
    "sort012(arr, n)\n",
    "print(arr)"
   ]
  },
  {
   "cell_type": "code",
   "execution_count": 3,
   "id": "8a742dff",
   "metadata": {},
   "outputs": [
    {
     "name": "stdout",
     "output_type": "stream",
     "text": [
      "[0, 0, 1, 2, 2]\n"
     ]
    }
   ],
   "source": [
    "arr = [0, 2, 1, 2, 0]\n",
    "n = 5\n",
    "\n",
    "sort012(arr, n)\n",
    "print(arr)"
   ]
  },
  {
   "cell_type": "code",
   "execution_count": 4,
   "id": "1941eec5",
   "metadata": {},
   "outputs": [],
   "source": [
    "def binarysearch(arr, n, k):\n",
    "        guess = round(n/2)\n",
    "        mini = 0\n",
    "        start = guess -1\n",
    "        while True:\n",
    "            if (guess-1 == mini) and (guess != k):\n",
    "                return -1\n",
    "            elif arr[start] < k:\n",
    "                mini = guess\n",
    "                guess = round((guess+n)/2)\n",
    "                start = guess - 1\n",
    "            elif arr[start] > k:\n",
    "                guess = round((mini+guess)/2)\n",
    "                start = guess - 1\n",
    "            elif arr[start] == k:\n",
    "                return start"
   ]
  },
  {
   "cell_type": "code",
   "execution_count": 5,
   "id": "ddb574b3",
   "metadata": {
    "scrolled": true
   },
   "outputs": [
    {
     "data": {
      "text/plain": [
       "3"
      ]
     },
     "execution_count": 5,
     "metadata": {},
     "output_type": "execute_result"
    }
   ],
   "source": [
    "arr = [1, 2, 3, 4, 5]\n",
    "n = 5\n",
    "k = 4\n",
    "\n",
    "binarysearch(arr, n, k)"
   ]
  },
  {
   "cell_type": "code",
   "execution_count": 6,
   "id": "6264613f",
   "metadata": {},
   "outputs": [
    {
     "data": {
      "text/plain": [
       "-1"
      ]
     },
     "execution_count": 6,
     "metadata": {},
     "output_type": "execute_result"
    }
   ],
   "source": [
    "arr = [1, 2, 3, 5, 5]\n",
    "n = 5\n",
    "k = 4\n",
    "\n",
    "binarysearch(arr, n, k)"
   ]
  },
  {
   "cell_type": "code",
   "execution_count": null,
   "id": "2dfccf57",
   "metadata": {},
   "outputs": [],
   "source": []
  }
 ],
 "metadata": {
  "kernelspec": {
   "display_name": "Python 3 (ipykernel)",
   "language": "python",
   "name": "python3"
  },
  "language_info": {
   "codemirror_mode": {
    "name": "ipython",
    "version": 3
   },
   "file_extension": ".py",
   "mimetype": "text/x-python",
   "name": "python",
   "nbconvert_exporter": "python",
   "pygments_lexer": "ipython3",
   "version": "3.11.5"
  }
 },
 "nbformat": 4,
 "nbformat_minor": 5
}
